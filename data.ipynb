{
 "cells": [
  {
   "cell_type": "code",
   "execution_count": 51,
   "metadata": {},
   "outputs": [
    {
     "name": "stdout",
     "output_type": "stream",
     "text": [
      "Requirement already satisfied: pymysql in c:\\users\\datascience\\appdata\\local\\programs\\python\\python311\\lib\\site-packages (1.1.1)\n"
     ]
    }
   ],
   "source": [
    "!pip install pymysql\n",
    "\n",
    "import pandas as pd\n",
    "import pymysql\n",
    "\n",
    "# CSV 파일 경로\n",
    "product_list_path = 'data/product_list_final.csv'\n",
    "product_price_path = 'data/product_price_final.csv'\n",
    "product_review_path = 'data/product_review_final.csv'\n",
    "product_link_path = 'data/product_link_final.csv'\n",
    "review_analysis_results_path = 'data/review_analysis_results.csv'\n"
   ]
  },
  {
   "cell_type": "code",
   "execution_count": 52,
   "metadata": {},
   "outputs": [
    {
     "name": "stdout",
     "output_type": "stream",
     "text": [
      "Index(['product_id', 'product_brand', 'product_name', 'current_price',\n",
      "       'regular_price', 'discount_rate', 'major_category', 'minor_category',\n",
      "       'score_review', 'num_review'],\n",
      "      dtype='object')\n",
      "Index(['product_id', 'product_brand', 'product_name', 'price_time',\n",
      "       'price_at'],\n",
      "      dtype='object')\n",
      "Index(['product_id', 'star_score', 'product_review'], dtype='object')\n",
      "Index(['product_id', 'product_link', 'img_url', 'product_danawa_url'], dtype='object')\n",
      "Index(['product_id', '장점', '단점'], dtype='object')\n"
     ]
    }
   ],
   "source": [
    "product_list_df = pd.read_csv(product_list_path)\n",
    "product_price_df = pd.read_csv(product_price_path)\n",
    "product_review_df = pd.read_csv(product_review_path)\n",
    "product_link_df = pd.read_csv(product_link_path)\n",
    "product_procon_df = pd.read_csv(review_analysis_results_path)\n",
    "\n",
    "print(product_list_df.columns)\n",
    "print(product_price_df.columns)\n",
    "print(product_review_df.columns)\n",
    "print(product_link_df.columns)\n",
    "print(product_procon_df.columns)"
   ]
  },
  {
   "cell_type": "code",
   "execution_count": 53,
   "metadata": {},
   "outputs": [
    {
     "data": {
      "text/plain": [
       "Index(['product_id', 'pro', 'con'], dtype='object')"
      ]
     },
     "execution_count": 53,
     "metadata": {},
     "output_type": "execute_result"
    }
   ],
   "source": [
    "product_procon_df.rename(columns={'장점': 'pro', '단점': 'con'}, inplace=True)\n",
    "product_procon_df.columns"
   ]
  },
  {
   "cell_type": "code",
   "execution_count": 56,
   "metadata": {},
   "outputs": [
    {
     "name": "stdout",
     "output_type": "stream",
     "text": [
      "major_category\n",
      "만두     269\n",
      "즉석국    243\n",
      "밀키트    233\n",
      "치킨     170\n",
      "튀김     107\n",
      "떡갈비    103\n",
      "Name: count, dtype: int64\n"
     ]
    }
   ],
   "source": [
    "category_counts = product_list_df['major_category'].value_counts()\n",
    "print(category_counts.head(6))\n",
    "\n",
    "#만두, 즉석국, 밀키트 (Top 3 카테고리로 하기로함)"
   ]
  },
  {
   "cell_type": "code",
   "execution_count": 57,
   "metadata": {},
   "outputs": [],
   "source": [
    "db_config = {\n",
    "    'host': '127.0.0.1',# MySQL 서버 주소\n",
    "    'user': 'root',    # 사용자명\n",
    "    'password': 'ghkdwlqls1!',# 비밀번호\n",
    "    'database': 'ProductDB',    # 사용할 데이터베이스 이름\n",
    "    'port': 3306                # 포트 번호 (기본값: 3306)\n",
    "}"
   ]
  },
  {
   "cell_type": "code",
   "execution_count": 58,
   "metadata": {},
   "outputs": [],
   "source": [
    "conn = pymysql.connect(**db_config)\n",
    "cursor = conn.cursor()"
   ]
  },
  {
   "cell_type": "code",
   "execution_count": 59,
   "metadata": {},
   "outputs": [
    {
     "name": "stdout",
     "output_type": "stream",
     "text": [
      "테이블 'Products'이(가) 존재합니다.\n"
     ]
    }
   ],
   "source": [
    "table_name = 'Products'\n",
    "\n",
    "cursor.execute(\n",
    "    \"\"\"\n",
    "    SELECT\n",
    "        TABLE_NAME\n",
    "    FROM\n",
    "        information_schema.tables\n",
    "    WHERE\n",
    "        TABLE_SCHEMA = %s\n",
    "        AND TABLE_NAME = %s;\n",
    "    \"\"\",\n",
    "    (db_config['database'], table_name)  # 튜플 형태로 전달\n",
    ")\n",
    "\n",
    "result = cursor.fetchone()\n",
    "if result:\n",
    "    print(f\"테이블 '{table_name}'이(가) 존재합니다.\")\n",
    "else:\n",
    "    print(f\"테이블 '{table_name}'이(가) 존재하지 않습니다.\")"
   ]
  },
  {
   "cell_type": "code",
   "execution_count": 60,
   "metadata": {},
   "outputs": [
    {
     "name": "stdout",
     "output_type": "stream",
     "text": [
      "데이터 삽입 성공!\n"
     ]
    }
   ],
   "source": [
    "# 1. Products 테이블 데이터 삽입\n",
    "\n",
    "product_insert_query = \"\"\"\n",
    "INSERT INTO Products (\n",
    "    product_id, product_brand, product_name, product_link, img_url, \n",
    "    current_price, score_review, review_num, regular_price, discount_rate,\n",
    "    major_category, minor_category, pro, con\n",
    ") VALUES (%s, %s, %s, %s, %s, %s, %s, %s, %s, %s, %s, %s, %s, %s);\n",
    "\"\"\"\n",
    "\n",
    "# 필요한 모든 데이터프레임 병합\n",
    "merged_df = (product_list_df\n",
    "    .rename(columns={\"num_review\": \"review_num\"})  # num_review를 review_num으로 변경\n",
    "    .merge(\n",
    "        product_link_df[['product_id', 'product_link', 'img_url']], \n",
    "        on='product_id', \n",
    "        how='left'\n",
    "    )\n",
    "    .merge(\n",
    "        product_procon_df.rename(columns={'장점': 'pro', '단점': 'con'})[['product_id', 'pro', 'con']], \n",
    "        on='product_id', \n",
    "        how='left'\n",
    "    )\n",
    ")\n",
    "\n",
    "# NaN 값을 None으로 변환하는 함수\n",
    "def convert_nan_to_none(value):\n",
    "    return None if pd.isna(value) else value\n",
    "\n",
    "# DataFrame에서 튜플 리스트로 변환\n",
    "product_data = [\n",
    "    tuple(convert_nan_to_none(value) for value in [\n",
    "        row.product_id,\n",
    "        row.product_brand,\n",
    "        row.product_name,\n",
    "        row.product_link,\n",
    "        row.img_url,\n",
    "        row.current_price,\n",
    "        row.score_review,\n",
    "        row.review_num,\n",
    "        row.regular_price,\n",
    "        row.discount_rate,\n",
    "        row.major_category,\n",
    "        row.minor_category,\n",
    "        row.pro,\n",
    "        row.con\n",
    "    ])\n",
    "    for row in merged_df.itertuples(index=False)\n",
    "]\n",
    "\n",
    "# 데이터 삽입\n",
    "try:\n",
    "    cursor.executemany(product_insert_query, product_data)\n",
    "    conn.commit()\n",
    "    print(\"데이터 삽입 성공!\")\n",
    "except Exception as e:\n",
    "    conn.rollback()\n",
    "    print(f\"데이터 삽입 실패: {e}\")"
   ]
  },
  {
   "cell_type": "code",
   "execution_count": 61,
   "metadata": {},
   "outputs": [
    {
     "name": "stdout",
     "output_type": "stream",
     "text": [
      "1400\n",
      "900\n"
     ]
    }
   ],
   "source": [
    "#product_list_final.csv 확인 -> 총 상품 개수 : 1400개\n",
    "print(len(product_list_df['product_id'].unique()))\n",
    "\n",
    "#product_review_final.csv 확인 -> 총 상품 개수 : 900개\n",
    "print(len(product_review_df['product_id'].unique()))\n"
   ]
  },
  {
   "cell_type": "code",
   "execution_count": 64,
   "metadata": {},
   "outputs": [
    {
     "name": "stdout",
     "output_type": "stream",
     "text": [
      "데이터 삽입 성공!\n"
     ]
    }
   ],
   "source": [
    "# 2. Product_Price_Change 테이블 데이터 삽입\n",
    "price_insert_query = \"\"\"\n",
    "INSERT INTO Product_Price_Change (\n",
    "    product_id, price_time, price_at\n",
    ") VALUES (%s, %s, %s);\n",
    "\"\"\"\n",
    "product_price_df['price_time'] = pd.to_datetime(product_price_df['price_time'].apply(lambda x: f\"2024-{x}\"))\n",
    "\n",
    "price_data = [\n",
    "    (row.product_id, row.price_time.strftime('%Y-%m-%d %H:%M:%S'), row.price_at)\n",
    "    for row in product_price_df.itertuples(index=False)\n",
    "]\n",
    "\n",
    "try:\n",
    "    cursor.executemany(price_insert_query, price_data)\n",
    "    conn.commit()\n",
    "    print(\"데이터 삽입 성공!\")\n",
    "except Exception as e:\n",
    "    conn.rollback()\n",
    "    print(f\"데이터 삽입 실패: {e}\")"
   ]
  },
  {
   "cell_type": "code",
   "execution_count": 65,
   "metadata": {},
   "outputs": [
    {
     "name": "stdout",
     "output_type": "stream",
     "text": [
      "데이터 삽입 성공!\n"
     ]
    }
   ],
   "source": [
    "# 3. Product_Review 테이블 데이터 삽입\n",
    "review_insert_query = \"\"\"\n",
    "INSERT INTO Product_Review (\n",
    "    product_id, star_score, product_review\n",
    ") VALUES (%s, %s, %s);\n",
    "\"\"\"\n",
    "\n",
    "# Rename column product_rate to star_score (필요한 경우)\n",
    "product_review_df = product_review_df.rename(columns={\"product_rate\": \"star_score\"})\n",
    "\n",
    "# DataFrame에서 튜플 리스트로 변환\n",
    "review_data = [\n",
    "    (row.product_id, row.star_score, row.product_review)\n",
    "    for row in product_review_df.itertuples(index=False)\n",
    "]\n",
    "\n",
    "try:\n",
    "    cursor.executemany(review_insert_query, review_data)\n",
    "    conn.commit()\n",
    "    print(\"데이터 삽입 성공!\")\n",
    "except Exception as e:\n",
    "    conn.rollback()\n",
    "    print(f\"데이터 삽입 실패: {e}\")"
   ]
  }
 ],
 "metadata": {
  "kernelspec": {
   "display_name": "easypick",
   "language": "python",
   "name": "python3"
  },
  "language_info": {
   "codemirror_mode": {
    "name": "ipython",
    "version": 3
   },
   "file_extension": ".py",
   "mimetype": "text/x-python",
   "name": "python",
   "nbconvert_exporter": "python",
   "pygments_lexer": "ipython3",
   "version": "3.11.9"
  }
 },
 "nbformat": 4,
 "nbformat_minor": 2
}
